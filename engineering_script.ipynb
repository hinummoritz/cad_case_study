{
 "cells": [
  {
   "cell_type": "markdown",
   "metadata": {},
   "source": [
    "# Aufgabe 1: Thermoformen in der Praxis\n",
    "## Lies dir die Seiten 34 und 35 des Buches \"Thermoformen in der Praxis\" sorgfältig durch. Erstelle anschließend eine Funktion, die die Dimensionen einer Kavität als Eingabe erhält und die praktisch erreichbare Wanddickenverteilung berechnet. Runde das Ergebnis auf eine Nachkommastelle.\n",
    "\n",
    "## Angaben:\n",
    "\n",
    "### Kavität: Länge x Breite x Höhe = 150 x 150 x 30 mm\n",
    "### Grundfläche: Länge x Breite = 180 x 180 mm\n",
    "### Ausgangsmaterialstärke: 2 mm"
   ]
  },
  {
   "cell_type": "code",
   "execution_count": 9,
   "metadata": {},
   "outputs": [],
   "source": [
    "def wall_thickness_distribution(base_length,base_width,cavity_length, cavity_width, cavity_heigth, initial_thickness):\n",
    "    F1 = base_length * base_width\n",
    "    F2 = F1 + 2*cavity_width*cavity_heigth + 2*cavity_length*cavity_heigth\n",
    "\n",
    "    average_thickness = round(initial_thickness * (F1 / F2), 1)\n",
    "\n",
    "    return average_thickness\n"
   ]
  },
  {
   "cell_type": "code",
   "execution_count": 10,
   "metadata": {},
   "outputs": [
    {
     "data": {
      "text/plain": [
       "1.3"
      ]
     },
     "execution_count": 10,
     "metadata": {},
     "output_type": "execute_result"
    }
   ],
   "source": [
    "wall_thickness_distribution(180,180,150,150,30,2)"
   ]
  },
  {
   "cell_type": "markdown",
   "metadata": {},
   "source": [
    "# Aufgabe 2: Berechnung der Durchbiegung eines Trays\n",
    "\n",
    "## Lies dir die Seiten 502 und 457 des Buches \"Roark's Formulas for Stress and Strain\" aufmerksam durch. Entwickle anschließend eine Funktion, die die Durchbiegung eines Trays berechnet. Verwende dabei die Angaben der Grundfläche und der erreichten Wanddickenverteilung als Materialstärke aus Aufgabe 1. Gehe davon aus, dass ein Gewicht von 1 kg gleichmäßig auf die Platte wirkt. Die Materialart ist PS-HI (Polystyrol-High Impact), welches ein E-Modul von 2150 N/mm² besitzt."
   ]
  },
  {
   "cell_type": "code",
   "execution_count": 175,
   "metadata": {},
   "outputs": [],
   "source": [
    "from scipy.interpolate import interp1d\n",
    "\n",
    "\n",
    "def get_alpha_func():\n",
    "    alpha = [0.0444, 0.0616, 0.0770, 0.0906, 0.1017, 0.1110, 0.1335, 0.1400, 0.1417]\n",
    "    ratio = [1.0, 1.2, 1.4, 1.6, 1.8, 2.0, 3.0, 4.0, 5.0]\n",
    "\n",
    "    f = interp1d(ratio, alpha)\n",
    "\n",
    "    return f\n",
    "\n",
    "def get_alpha(ratio):\n",
    "\n",
    "    alpha_func = get_alpha_func()\n",
    "\n",
    "    if ratio <= 5:\n",
    "        alpha = alpha_func(ratio)\n",
    "    else:\n",
    "        alpha = 0.1421\n",
    "\n",
    "    return alpha\n",
    "\n",
    "def get_force_per_unit_area(weight, base_length, base_width):\n",
    "    gravity_constant=9.81\n",
    "    force = weight * gravity_constant\n",
    "    force_per_unit_area = force / (base_length * base_width)\n",
    "    return force_per_unit_area\n",
    "\n",
    "\n",
    "\n",
    "#W = total applied load (force) N\n",
    "#q = load per unit area : q = W / (base_length * base_width) : N/mm2\n",
    "#y = vertical deflection of plate (length) mm\n",
    "#E = modulus of elasticity (force per unit area) N/mm2\n",
    "#t = plate thickness mm2\n",
    "#alpha = a constant that depends on the aspect ratio of the plate\n",
    "# y = -alpha * q/(a*b) * (b^4) / (E * (t^3))\n",
    "\n",
    "def deflection(base_length, base_width, thickness, materialtyp, weight):\n",
    "\n",
    "    #modulus = {\"PS-HI\": 2150}\n",
    "    #elastic_modulus = modulus[materialtyp]\n",
    "    elastic_modulus = 2150 # Hardcoded auch ok\n",
    "\n",
    "    dims = [base_length, base_width]\n",
    "    dims.sort()\n",
    "\n",
    "    ratio = dims[1] / dims[0]\n",
    "\n",
    "    alpha = get_alpha(ratio)\n",
    "    force_per_unit_area = get_force_per_unit_area(weight, base_length, base_width)\n",
    "\n",
    "    deflection = (-alpha* force_per_unit_area * (dims[0]**4))/(elastic_modulus*(thickness**3))\n",
    "\n",
    "    return deflection\n",
    "\n",
    "\n",
    "\n",
    "\n",
    "    \n",
    "\n",
    "\n",
    "    \n"
   ]
  },
  {
   "cell_type": "code",
   "execution_count": 180,
   "metadata": {},
   "outputs": [
    {
     "data": {
      "text/plain": [
       "-2.9876414137671876"
      ]
     },
     "execution_count": 180,
     "metadata": {},
     "output_type": "execute_result"
    }
   ],
   "source": [
    "deflection(180, 180, 1.3, \"PS-HI\",1)"
   ]
  },
  {
   "cell_type": "markdown",
   "metadata": {},
   "source": [
    "# Aufgabe 3: Berechnung der Ausgangsmaterialstärke basierend auf der maximalen Durchbiegung\n",
    "## Verbinde die Aufgabenstellungen der vorherigen beiden Aufgaben und entwickle eine Funktion, die ausgehend von einer gewünschten maximalen Durchbiegung des Trays die erforderliche Ausgangsmaterialstärke berechnet. Berechne die notwendige Ausgangsmaterialstärke für eine maximale Durchbiegung von 1 mm unter ansonsten gleichen Bedingungen/Angaben wie in Aufgabe 1 und 2."
   ]
  },
  {
   "cell_type": "code",
   "execution_count": 170,
   "metadata": {},
   "outputs": [],
   "source": [
    "def initial_material_thickness(deflection, base_length, base_width, cavity_length, cavity_width, cavity_heigth, materialtyp, weight):\n",
    "\n",
    "    F1 = base_length * base_width\n",
    "    F2 = F1 + 2*cavity_width*cavity_heigth + 2*cavity_length*cavity_heigth\n",
    "\n",
    "    thickness_ratio = F2 / F1\n",
    "\n",
    "    #modulus = {\"PS-HI\": 2150}\n",
    "    #elastic_modulus = modulus[materialtyp]\n",
    "    elastic_modulus = 2150 # Hardcoded auch ok\n",
    "\n",
    "    dims = [base_length, base_width]\n",
    "    dims.sort()\n",
    "\n",
    "    ratio = dims[1] / dims[0]\n",
    "\n",
    "    alpha = get_alpha(ratio)\n",
    "    force_per_unit_area = get_force_per_unit_area(weight, base_length, base_width)\n",
    "\n",
    "    thickness = ((-alpha * force_per_unit_area * (dims[0]**4)) / (elastic_modulus * deflection))**(1/3)*thickness_ratio\n",
    "\n",
    "    return thickness"
   ]
  },
  {
   "cell_type": "code",
   "execution_count": 166,
   "metadata": {},
   "outputs": [
    {
     "data": {
      "text/plain": [
       "2.022222222222222"
      ]
     },
     "execution_count": 166,
     "metadata": {},
     "output_type": "execute_result"
    }
   ],
   "source": [
    "# Überprüfung der Funktionen\n",
    "initial_material_thickness(-2.9876414137671876, 180, 180, 150, 150, 30, \"PS-HI\", 1)"
   ]
  },
  {
   "cell_type": "code",
   "execution_count": 171,
   "metadata": {},
   "outputs": [
    {
     "data": {
      "text/plain": [
       "2.9125386829690068"
      ]
     },
     "execution_count": 171,
     "metadata": {},
     "output_type": "execute_result"
    }
   ],
   "source": [
    "initial_material_thickness(-1, 180, 180, 150, 150, 30, \"PS-HI\", 1)"
   ]
  }
 ],
 "metadata": {
  "kernelspec": {
   "display_name": "Python 3",
   "language": "python",
   "name": "python3"
  },
  "language_info": {
   "codemirror_mode": {
    "name": "ipython",
    "version": 3
   },
   "file_extension": ".py",
   "mimetype": "text/x-python",
   "name": "python",
   "nbconvert_exporter": "python",
   "pygments_lexer": "ipython3",
   "version": "3.11.9"
  }
 },
 "nbformat": 4,
 "nbformat_minor": 2
}

{
 "cells": [
  {
   "cell_type": "markdown",
   "metadata": {},
   "source": [
    "# Aufgabe 1: Thermoformen in der Praxis\n",
    "## Lies dir die Seiten 34 und 35 des Buches \"Thermoformen in der Praxis\" sorgfältig durch. Erstelle anschließend eine Funktion, die die Dimensionen einer Kavität als Eingabe erhält und die praktisch erreichbare Wanddickenverteilung berechnet. Runde das Ergebnis auf eine Nachkommastelle.\n",
    "\n",
    "## Angaben:\n",
    "\n",
    "### Kavität: Länge x Breite x Höhe = 150 x 150 x 30 mm\n",
    "### Grundfläche: Länge x Breite = 180 x 180 mm\n",
    "### Ausgangsmaterialstärke: 2 mm"
   ]
  },
  {
   "cell_type": "code",
   "execution_count": 9,
   "metadata": {},
   "outputs": [],
   "source": [
    "# Funktionen"
   ]
  },
  {
   "cell_type": "code",
   "execution_count": null,
   "metadata": {},
   "outputs": [],
   "source": [
    "# Ausführen mit Aufgabenangaben"
   ]
  },
  {
   "cell_type": "markdown",
   "metadata": {},
   "source": [
    "# Aufgabe 2: Berechnung der Durchbiegung eines Trays\n",
    "\n",
    "## Lies dir die Seiten 502 und 457 des Buches \"Roark's Formulas for Stress and Strain\" aufmerksam durch. Entwickle anschließend eine Funktion, die die Durchbiegung eines Trays berechnet. Verwende dabei die Angaben der Grundfläche und der erreichten Wanddickenverteilung als Materialstärke aus Aufgabe 1. Gehe davon aus, dass ein Gewicht von 1 kg gleichmäßig auf die Platte wirkt. Die Materialart ist PS-HI (Polystyrol-High Impact), welches ein E-Modul von 2150 N/mm² besitzt."
   ]
  },
  {
   "cell_type": "code",
   "execution_count": 175,
   "metadata": {},
   "outputs": [],
   "source": [
    "# Funktionen"
   ]
  },
  {
   "cell_type": "code",
   "execution_count": 180,
   "metadata": {},
   "outputs": [
    {
     "data": {
      "text/plain": [
       "-2.9876414137671876"
      ]
     },
     "execution_count": 180,
     "metadata": {},
     "output_type": "execute_result"
    }
   ],
   "source": [
    "# Ausführen mit Aufgabenangaben\n"
   ]
  },
  {
   "cell_type": "markdown",
   "metadata": {},
   "source": [
    "# Aufgabe 3: Berechnung der Ausgangsmaterialstärke basierend auf der maximalen Durchbiegung\n",
    "## Verbinde die Aufgabenstellungen der vorherigen beiden Aufgaben und entwickle eine Funktion, die ausgehend von einer gewünschten maximalen Durchbiegung des Trays die erforderliche Ausgangsmaterialstärke berechnet. Berechne die notwendige Ausgangsmaterialstärke für eine maximale Durchbiegung von 1 mm unter ansonsten gleichen Bedingungen/Angaben wie in Aufgabe 1 und 2."
   ]
  },
  {
   "cell_type": "code",
   "execution_count": 170,
   "metadata": {},
   "outputs": [],
   "source": [
    "# Funktionen"
   ]
  },
  {
   "cell_type": "code",
   "execution_count": 166,
   "metadata": {},
   "outputs": [
    {
     "data": {
      "text/plain": [
       "2.022222222222222"
      ]
     },
     "execution_count": 166,
     "metadata": {},
     "output_type": "execute_result"
    }
   ],
   "source": [
    "# Überprüfung der Funktionen\n"
   ]
  },
  {
   "cell_type": "code",
   "execution_count": 171,
   "metadata": {},
   "outputs": [
    {
     "data": {
      "text/plain": [
       "2.9125386829690068"
      ]
     },
     "execution_count": 171,
     "metadata": {},
     "output_type": "execute_result"
    }
   ],
   "source": [
    "# Ausführen mit Aufgabenangaben\n"
   ]
  }
 ],
 "metadata": {
  "kernelspec": {
   "display_name": "Python 3",
   "language": "python",
   "name": "python3"
  },
  "language_info": {
   "codemirror_mode": {
    "name": "ipython",
    "version": 3
   },
   "file_extension": ".py",
   "mimetype": "text/x-python",
   "name": "python",
   "nbconvert_exporter": "python",
   "pygments_lexer": "ipython3",
   "version": "3.11.9"
  }
 },
 "nbformat": 4,
 "nbformat_minor": 2
}
